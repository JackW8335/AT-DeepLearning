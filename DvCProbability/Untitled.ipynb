{
 "cells": [
  {
   "cell_type": "code",
   "execution_count": null,
   "metadata": {},
   "outputs": [],
   "source": [
    "def create_label(image_name):\n",
    "\t\"\"\" Create an one-hot encoded vector from image name \"\"\"\n",
    "\tword_label = image_name.split('.')[-3]\n",
    "\tif word_label == 'cat':\n",
    "\treturn np.array([1,0])\n",
    "\telif word_label == 'dog':\n",
    "\treturn np.array([0,1])"
   ]
  },
  {
   "cell_type": "code",
   "execution_count": null,
   "metadata": {},
   "outputs": [],
   "source": [
    "def create_train_data():\n",
    "\t\t\ttraining_data = []\n",
    "\t\t\tfor img in tqdm(os.listdir(TRAIN_DIR)):\n",
    "\t\t\t\tpath = os.path.join(TRAIN_DIR, img)\n",
    "\t\t\t\timg_data = cv2.imread(path, cv2.IMREAD_GRAYSCALE)\n",
    "\t\t\t\timg_data = cv2.resize(img_data, (IMG_SIZE, IMG_SIZE))\n",
    "\t\t\t\ttraining_data.append([np.array(img_data), create_label(img)])\n",
    "\t\t\t\tshuffle(training_data)\n",
    "\t\t\t\tnp.save('train_data.npy', training_data)\n",
    "\t\t\t\treturn training_data"
   ]
  }
 ],
 "metadata": {
  "kernelspec": {
   "display_name": "Python 3",
   "language": "python",
   "name": "python3"
  },
  "language_info": {
   "codemirror_mode": {
    "name": "ipython",
    "version": 3
   },
   "file_extension": ".py",
   "mimetype": "text/x-python",
   "name": "python",
   "nbconvert_exporter": "python",
   "pygments_lexer": "ipython3",
   "version": "3.6.7"
  }
 },
 "nbformat": 4,
 "nbformat_minor": 2
}
